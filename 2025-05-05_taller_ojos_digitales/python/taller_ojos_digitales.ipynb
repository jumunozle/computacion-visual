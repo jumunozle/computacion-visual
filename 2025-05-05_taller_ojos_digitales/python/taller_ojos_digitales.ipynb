{
 "cells": [
  {
   "cell_type": "code",
   "execution_count": null,
   "id": "b87e0c2c",
   "metadata": {},
   "outputs": [
    {
     "ename": "FileNotFoundError",
     "evalue": "La imagen 'image.png' no se encuentra en el directorio actual.",
     "output_type": "error",
     "traceback": [
      "\u001b[31m---------------------------------------------------------------------------\u001b[39m",
      "\u001b[31mFileNotFoundError\u001b[39m                         Traceback (most recent call last)",
      "\u001b[36mCell\u001b[39m\u001b[36m \u001b[39m\u001b[32mIn[1]\u001b[39m\u001b[32m, line 7\u001b[39m\n\u001b[32m      5\u001b[39m imagen_color = cv2.imread(\u001b[33m'\u001b[39m\u001b[33mimage.png\u001b[39m\u001b[33m'\u001b[39m)\n\u001b[32m      6\u001b[39m \u001b[38;5;28;01mif\u001b[39;00m imagen_color \u001b[38;5;129;01mis\u001b[39;00m \u001b[38;5;28;01mNone\u001b[39;00m:\n\u001b[32m----> \u001b[39m\u001b[32m7\u001b[39m     \u001b[38;5;28;01mraise\u001b[39;00m \u001b[38;5;167;01mFileNotFoundError\u001b[39;00m(\u001b[33m\"\u001b[39m\u001b[33mLa imagen \u001b[39m\u001b[33m'\u001b[39m\u001b[33mimage.png\u001b[39m\u001b[33m'\u001b[39m\u001b[33m no se encuentra en el directorio actual.\u001b[39m\u001b[33m\"\u001b[39m)\n\u001b[32m      8\u001b[39m imagen_gris = cv2.cvtColor(imagen_color, cv2.COLOR_BGR2GRAY)\n\u001b[32m     10\u001b[39m \u001b[38;5;66;03m# Función para aplicar filtros con kernel ajustable\u001b[39;00m\n",
      "\u001b[31mFileNotFoundError\u001b[39m: La imagen 'image.png' no se encuentra en el directorio actual."
     ]
    }
   ],
   "source": [
    "import cv2\n",
    "import numpy as np\n",
    "\n",
    "# Cargar imagen a color y convertirla a escala de grises\n",
    "imagen_color = cv2.imread('image.jpg')\n",
    "if imagen_color is None:\n",
    "    raise FileNotFoundError(\"La imagen 'image.png' no se encuentra en el directorio actual.\")\n",
    "imagen_gris = cv2.cvtColor(imagen_color, cv2.COLOR_BGR2GRAY)\n",
    "\n",
    "# Función para aplicar filtros con kernel ajustable\n",
    "def aplicar_filtros(kernel_size):\n",
    "    if kernel_size % 2 == 0:\n",
    "        kernel_size += 1  # el kernel debe ser impar\n",
    "\n",
    "    # Blur\n",
    "    blur = cv2.GaussianBlur(imagen_gris, (kernel_size, kernel_size), 0)\n",
    "\n",
    "    # Sharpen\n",
    "    kernel_sharpen = np.array([[0, -1, 0],\n",
    "                               [-1, 5,-1],\n",
    "                               [0, -1, 0]])\n",
    "    sharpen = cv2.filter2D(imagen_gris, -1, kernel_sharpen)\n",
    "\n",
    "    # Sobel X e Y\n",
    "    sobelx = cv2.Sobel(imagen_gris, cv2.CV_64F, 1, 0, ksize=kernel_size)\n",
    "    sobely = cv2.Sobel(imagen_gris, cv2.CV_64F, 0, 1, ksize=kernel_size)\n",
    "    sobel = cv2.magnitude(sobelx, sobely)\n",
    "    sobel = np.uint8(np.clip(sobel, 0, 255))\n",
    "\n",
    "    # Laplaciano\n",
    "    laplacian = cv2.Laplacian(imagen_gris, cv2.CV_64F, ksize=kernel_size)\n",
    "    laplacian = np.uint8(np.clip(laplacian, 0, 255))\n",
    "\n",
    "    # Mostrar imágenes redimensionadas\n",
    "    cv2.imshow('Original (Gris)', cv2.resize(imagen_gris, (600, 600)))\n",
    "    cv2.imshow('Blur', cv2.resize(blur, (600, 600)))\n",
    "    cv2.imshow('Sharpen', cv2.resize(sharpen, (600, 600)))\n",
    "    cv2.imshow('Sobel', cv2.resize(sobel, (600, 600)))\n",
    "    cv2.imshow('Laplacian', cv2.resize(laplacian, (600, 600)))\n",
    "\n",
    "# Callback para el trackbar\n",
    "def on_trackbar(val):\n",
    "    if val < 1:\n",
    "        val = 1\n",
    "    aplicar_filtros(val)\n",
    "\n",
    "# Crear ventanas y trackbar\n",
    "cv2.namedWindow('Filtros')\n",
    "cv2.resizeWindow('Filtros', 600, 100)\n",
    "cv2.createTrackbar('Kernel Size', 'Filtros', 3, 15, on_trackbar)\n",
    "on_trackbar(3)  # inicializar con valor por defecto\n",
    "\n",
    "# Redimensionar ventanas antes de mostrar\n",
    "for nombre in ['Original (Gris)', 'Blur', 'Sharpen', 'Sobel', 'Laplacian']:\n",
    "    cv2.namedWindow(nombre, cv2.WINDOW_NORMAL)\n",
    "    cv2.resizeWindow(nombre, 600, 600)\n",
    "\n",
    "print(\"Presiona 'q' para salir.\")\n",
    "\n",
    "while True:\n",
    "    if cv2.waitKey(1) & 0xFF == ord('q'):\n",
    "        break\n",
    "\n",
    "cv2.destroyAllWindows()\n"
   ]
  }
 ],
 "metadata": {
  "kernelspec": {
   "display_name": "Python 3",
   "language": "python",
   "name": "python3"
  },
  "language_info": {
   "codemirror_mode": {
    "name": "ipython",
    "version": 3
   },
   "file_extension": ".py",
   "mimetype": "text/x-python",
   "name": "python",
   "nbconvert_exporter": "python",
   "pygments_lexer": "ipython3",
   "version": "3.13.3"
  }
 },
 "nbformat": 4,
 "nbformat_minor": 5
}
