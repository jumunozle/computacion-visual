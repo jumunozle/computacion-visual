{
  "cells": [
    {
      "cell_type": "code",
      "execution_count": null,
      "metadata": {
        "colab": {
          "base_uri": "https://localhost:8080/"
        },
        "id": "Jl8GfA-qJnFI",
        "outputId": "b09d451a-ac1e-4465-8270-b9e5d92cb648"
      },
      "outputs": [
        {
          "name": "stdout",
          "output_type": "stream",
          "text": [
            "Requirement already satisfied: imageio in /usr/local/lib/python3.11/dist-packages (2.37.0)\n",
            "Requirement already satisfied: numpy in /usr/local/lib/python3.11/dist-packages (from imageio) (2.0.2)\n",
            "Requirement already satisfied: pillow>=8.3.2 in /usr/local/lib/python3.11/dist-packages (from imageio) (11.1.0)\n"
          ]
        }
      ],
      "source": [
        "!pip install imageio"
      ]
    },
    {
      "cell_type": "code",
      "execution_count": null,
      "metadata": {
        "colab": {
          "base_uri": "https://localhost:8080/"
        },
        "id": "-eP4NQmHRKEb",
        "outputId": "81ef6e2a-a858-45d1-ab8e-18901d270f90"
      },
      "outputs": [
        {
          "name": "stderr",
          "output_type": "stream",
          "text": [
            "<ipython-input-3-9dc39d395567>:68: UserWarning: Setting the 'color' property will override the edgecolor or facecolor properties.\n",
            "  poly = Polygon(transformed.T, closed=True, color='skyblue', edgecolor='navy')\n"
          ]
        }
      ],
      "source": [
        "import numpy as np\n",
        "import matplotlib.pyplot as plt\n",
        "import imageio\n",
        "from matplotlib.patches import Polygon\n",
        "\n",
        "figura = np.array([\n",
        "    [0, 0],\n",
        "    [1, 0],\n",
        "    [0.5, 1]\n",
        "]).T  \n",
        "\n",
        "\n",
        "frames = 60\n",
        "angle_max = 2 * np.pi  \n",
        "scale_max = 2\n",
        "tx_max, ty_max = 2, 1  \n",
        "\n",
        "# Lista de imágenes para el GIF\n",
        "imagenes = []\n",
        "\n",
        "for frame in range(frames):\n",
        "    t = frame / (frames - 1)  \n",
        "\n",
        "    # Parámetros interpolados\n",
        "    angle = t * angle_max\n",
        "    scale = 1 + t * (scale_max - 1)\n",
        "    tx = t * tx_max\n",
        "    ty = t * ty_max\n",
        "\n",
        "    # Matrices de transformación\n",
        "    S = np.array([\n",
        "        [scale, 0,     0],\n",
        "        [0,     scale, 0],\n",
        "        [0,     0,     1]\n",
        "    ])\n",
        "\n",
        "    R = np.array([\n",
        "        [np.cos(angle), -np.sin(angle), 0],\n",
        "        [np.sin(angle),  np.cos(angle), 0],\n",
        "        [0,              0,             1]\n",
        "    ])\n",
        "\n",
        "    T = np.array([\n",
        "        [1, 0, tx],\n",
        "        [0, 1, ty],\n",
        "        [0, 0, 1 ]\n",
        "    ])\n",
        "\n",
        "\n",
        "    M = T @ R @ S\n",
        "\n",
        "  \n",
        "    homog_figura = np.vstack((figura, np.ones((1, figura.shape[1]))))  # 3x3\n",
        "\n",
        "    transformed = M @ homog_figura\n",
        "    transformed = transformed[:2, :] \n",
        "\n",
        "    fig, ax = plt.subplots()\n",
        "    ax.set_xlim(-2, 4)\n",
        "    ax.set_ylim(-2, 4)\n",
        "    ax.set_aspect('equal')\n",
        "    ax.set_title(f'Frame {frame+1}/{frames}')\n",
        "\n",
        "    poly = Polygon(transformed.T, closed=True, color='skyblue', edgecolor='navy')\n",
        "    ax.add_patch(poly)\n",
        "\n",
        "    matrix_str = np.array2string(M, precision=2, suppress_small=True)\n",
        "    ax.text(-1.5, -1.5, f\"Matriz:\\n{matrix_str}\", fontsize=7, family='monospace')\n",
        "\n",
        "    filename = f'frame_{frame:03d}.png'\n",
        "    plt.savefig(filename)\n",
        "    imagenes.append(imageio.v2.imread(filename))\n",
        "    plt.close()\n",
        "\n",
        "# Guardar el GIF\n",
        "imageio.mimsave('transformacion.gif', imagenes, fps=15)\n",
        "print(\"GIF guardado\")\n"
      ]
    }
  ],
  "metadata": {
    "colab": {
      "provenance": []
    },
    "kernelspec": {
      "display_name": "Python 3",
      "name": "python3"
    },
    "language_info": {
      "name": "python"
    }
  },
  "nbformat": 4,
  "nbformat_minor": 0
}
