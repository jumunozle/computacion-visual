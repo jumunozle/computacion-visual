{
  "nbformat": 4,
  "nbformat_minor": 0,
  "metadata": {
    "colab": {
      "provenance": []
    },
    "kernelspec": {
      "name": "python3",
      "display_name": "Python 3"
    },
    "language_info": {
      "name": "python"
    }
  },
  "cells": [
    {
      "cell_type": "code",
      "source": [
        "!pip install pillow numpy matplotlib"
      ],
      "metadata": {
        "colab": {
          "base_uri": "https://localhost:8080/"
        },
        "id": "Zc7CmCVzWlnH",
        "outputId": "1044057d-53e8-40fe-ba00-dd6168490c3e"
      },
      "execution_count": null,
      "outputs": [
        {
          "output_type": "stream",
          "name": "stdout",
          "text": [
            "Requirement already satisfied: pillow in /usr/local/lib/python3.11/dist-packages (11.2.1)\n",
            "Requirement already satisfied: numpy in /usr/local/lib/python3.11/dist-packages (2.0.2)\n",
            "Requirement already satisfied: matplotlib in /usr/local/lib/python3.11/dist-packages (3.10.0)\n",
            "Requirement already satisfied: contourpy>=1.0.1 in /usr/local/lib/python3.11/dist-packages (from matplotlib) (1.3.2)\n",
            "Requirement already satisfied: cycler>=0.10 in /usr/local/lib/python3.11/dist-packages (from matplotlib) (0.12.1)\n",
            "Requirement already satisfied: fonttools>=4.22.0 in /usr/local/lib/python3.11/dist-packages (from matplotlib) (4.57.0)\n",
            "Requirement already satisfied: kiwisolver>=1.3.1 in /usr/local/lib/python3.11/dist-packages (from matplotlib) (1.4.8)\n",
            "Requirement already satisfied: packaging>=20.0 in /usr/local/lib/python3.11/dist-packages (from matplotlib) (24.2)\n",
            "Requirement already satisfied: pyparsing>=2.3.1 in /usr/local/lib/python3.11/dist-packages (from matplotlib) (3.2.3)\n",
            "Requirement already satisfied: python-dateutil>=2.7 in /usr/local/lib/python3.11/dist-packages (from matplotlib) (2.9.0.post0)\n",
            "Requirement already satisfied: six>=1.5 in /usr/local/lib/python3.11/dist-packages (from python-dateutil>=2.7->matplotlib) (1.17.0)\n"
          ]
        }
      ]
    },
    {
      "cell_type": "code",
      "execution_count": null,
      "metadata": {
        "id": "dCYN8mLSWEbs"
      },
      "outputs": [],
      "source": [
        "from PIL import Image, ImageDraw\n",
        "import matplotlib.pyplot as plt\n",
        "\n",
        "width, height = 200, 200\n",
        "image = Image.new('RGB', (width, height), 'white')\n",
        "pixels = image.load()"
      ]
    },
    {
      "cell_type": "code",
      "source": [
        "def bresenham(x0, y0, x1, y1):\n",
        "    dx = abs(x1 - x0)\n",
        "    dy = abs(y1 - y0)\n",
        "    sx = 1 if x0 < x1 else -1\n",
        "    sy = 1 if y0 < y1 else -1\n",
        "    err = dx - dy\n",
        "\n",
        "    while True:\n",
        "        pixels[x0, y0] = (255, 0, 0)\n",
        "        if x0 == x1 and y0 == y1:\n",
        "            break\n",
        "        e2 = 2 * err\n",
        "        if e2 > -dy:\n",
        "            err -= dy\n",
        "            x0 += sx\n",
        "        if e2 < dx:\n",
        "            err += dx\n",
        "            y0 += sy"
      ],
      "metadata": {
        "id": "8P4D65AbWaDn"
      },
      "execution_count": null,
      "outputs": []
    },
    {
      "cell_type": "code",
      "source": [
        "bresenham(20, 20, 180, 120)"
      ],
      "metadata": {
        "id": "bIEV8ATTWdnu"
      },
      "execution_count": null,
      "outputs": []
    },
    {
      "cell_type": "code",
      "source": [
        "plt.imshow(image)\n",
        "plt.axis('off')\n",
        "plt.show()"
      ],
      "metadata": {
        "id": "bfu0BVPgXJE2",
        "outputId": "f7563b71-8f0d-4b7f-f28a-7802396c3015",
        "colab": {
          "base_uri": "https://localhost:8080/",
          "height": 406
        }
      },
      "execution_count": null,
      "outputs": [
        {
          "output_type": "display_data",
          "data": {
            "text/plain": [
              "<Figure size 640x480 with 1 Axes>"
            ],
            "image/png": "[encoded data removed]"
          },
          "metadata": {}
        }
      ]
    },
    {
      "cell_type": "code",
      "source": [
        "def midpoint_circle(x0, y0, radius):\n",
        "    x = radius\n",
        "    y = 0\n",
        "    p = 1 - radius\n",
        "\n",
        "    while x >= y:\n",
        "        for dx, dy in [(x, y), (y, x), (-x, y), (-y, x), (-x, -y), (-y, -x), (x, -y), (y, -x)]:\n",
        "            if 0 <= x0 + dx < width and 0 <= y0 + dy < height:\n",
        "                pixels[x0 + dx, y0 + dy] = (0, 0, 255)\n",
        "        y += 1\n",
        "        if p <= 0:\n",
        "            p = p + 2*y + 1\n",
        "        else:\n",
        "            x -= 1\n",
        "            p = p + 2*y - 2*x + 1"
      ],
      "metadata": {
        "id": "OliQz5KZWfJu"
      },
      "execution_count": null,
      "outputs": []
    },
    {
      "cell_type": "code",
      "source": [
        "midpoint_circle(100, 100, 40)\n"
      ],
      "metadata": {
        "id": "hqCGaBLrWu-L"
      },
      "execution_count": null,
      "outputs": []
    },
    {
      "cell_type": "code",
      "source": [
        "plt.imshow(image)\n",
        "plt.axis('off')\n",
        "plt.show()"
      ],
      "metadata": {
        "id": "WGn-GgQSXLaI",
        "outputId": "a61afe4d-d3f5-4a45-b6cd-c7f3a2d0f788",
        "colab": {
          "base_uri": "https://localhost:8080/",
          "height": 406
        }
      },
      "execution_count": null,
      "outputs": [
        {
          "output_type": "display_data",
          "data": {
            "text/plain": [
              "<Figure size 640x480 with 1 Axes>"
            ],
            "image/png": "[encoded data removed]"
          },
          "metadata": {}
        }
      ]
    },
    {
      "cell_type": "code",
      "source": [
        "def fill_triangle(p1, p2, p3):\n",
        "    # ordenar por y\n",
        "    pts = sorted([p1, p2, p3], key=lambda p: p[1])\n",
        "    (x1, y1), (x2, y2), (x3, y3) = pts\n",
        "\n",
        "    def interpolate(y0, y1, x0, x1):\n",
        "        if y1 - y0 == 0: return []\n",
        "        return [int(x0 + (x1 - x0) * (y - y0) / (y1 - y0)) for y in range(y0, y1)]\n",
        "\n",
        "    x12 = interpolate(y1, y2, x1, x2)\n",
        "    x23 = interpolate(y2, y3, x2, x3)\n",
        "    x13 = interpolate(y1, y3, x1, x3)\n",
        "\n",
        "    x_left = x12 + x23\n",
        "    for y, xl, xr in zip(range(y1, y3), x13, x_left):\n",
        "        for x in range(min(xl, xr), max(xl, xr)):\n",
        "            if 0 <= x < width and 0 <= y < height:\n",
        "                pixels[x, y] = (0, 255, 0)"
      ],
      "metadata": {
        "id": "hvzDtCj5WwlD"
      },
      "execution_count": null,
      "outputs": []
    },
    {
      "cell_type": "code",
      "source": [
        "fill_triangle((30, 50), (100, 150), (160, 60))"
      ],
      "metadata": {
        "id": "J9kjcVZCWyCf"
      },
      "execution_count": null,
      "outputs": []
    },
    {
      "cell_type": "code",
      "source": [
        "plt.imshow(image)\n",
        "plt.axis('off')\n",
        "plt.show()"
      ],
      "metadata": {
        "colab": {
          "base_uri": "https://localhost:8080/",
          "height": 406
        },
        "id": "GxQ4bCR_Wz8Y",
        "outputId": "f1b16a3b-ab62-4770-d157-95f458ff1d78"
      },
      "execution_count": null,
      "outputs": [
        {
          "output_type": "display_data",
          "data": {
            "text/plain": [
              "<Figure size 640x480 with 1 Axes>"
            ],
            "image/png": "[encoded data removed]"
          },
          "metadata": {}
        }
      ]
    }
  ]
}